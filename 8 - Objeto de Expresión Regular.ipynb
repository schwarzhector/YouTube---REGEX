{
  "nbformat": 4,
  "nbformat_minor": 0,
  "metadata": {
    "colab": {
      "name": "2.8 REGEX.ipynb",
      "provenance": []
    },
    "kernelspec": {
      "name": "python3",
      "display_name": "Python 3"
    },
    "language_info": {
      "name": "python"
    }
  },
  "cells": [
    {
      "cell_type": "markdown",
      "source": [
        "Código utilizado en el video:<br>\n",
        "https://youtu.be/qy35sl5HL74"
      ],
      "metadata": {
        "id": "YwFV1YjXPDyH"
      }
    },
    {
      "cell_type": "markdown",
      "source": [
        "# Objeto de Expresión Regular: el método .compile()\n",
        "Documentación oficial:<br>https://docs.python.org/3/library/re.html#re.compile\n"
      ],
      "metadata": {
        "id": "kRf2oqYe4x49"
      }
    },
    {
      "cell_type": "code",
      "source": [
        "import re"
      ],
      "metadata": {
        "id": "LWFrLoW2--N-"
      },
      "execution_count": null,
      "outputs": []
    },
    {
      "cell_type": "code",
      "source": [
        "texto =[    \"1- Me gusta el sol, Alicia y las palomas\",\n",
        "            \"2- el buen cigarro y la guitarra española\",\n",
        "            \"3- saltar paredes y abrir las ventanas\",\n",
        "            \"4- y cuando llora una mujer (de alegría)\",\n",
        "            \"5- Me gusta el vino tanto como las flores\",\n",
        "            \"6- y los conejos pero no los tractores\",\n",
        "            \"7- y el pan casero y la voz de Dolores\",\n",
        "            \"8- y el mar mojándome los pies\",\n",
        "            \"9- no soy de aqui ni soy de allá\",\n",
        "            \"10- no tengo edad mi porvenir\",\n",
        "            \"11- y ser felíz es mi color de identidad\",\n",
        "            \"12- Me gusta estar tirado siempre en la arena\",\n",
        "            \"13- O en bicicleta perseguir a Manuela\",\n",
        "            \"14- O todo el tiempo para ver las estrellas\",\n",
        "            \"15- Con la María en el trigal\"\n",
        "          ]"
      ],
      "metadata": {
        "id": "QiVBRq08AAXo"
      },
      "execution_count": null,
      "outputs": []
    },
    {
      "cell_type": "code",
      "source": [
        "for frase in texto:\n",
        "  if re.findall('[sd]$', frase):         \n",
        "    print(frase)"
      ],
      "metadata": {
        "colab": {
          "base_uri": "https://localhost:8080/"
        },
        "id": "Ofq2ifwSDM7J",
        "outputId": "8ad8f067-422e-4cd2-9087-0585d90af7ea"
      },
      "execution_count": null,
      "outputs": [
        {
          "output_type": "stream",
          "name": "stdout",
          "text": [
            "1- Me gusta el sol, Alicia y las palomas\n",
            "3- saltar paredes y abrir las ventanas\n",
            "5- Me gusta el vino tanto como las flores\n",
            "6- y los conejos pero no los tractores\n",
            "7- y el pan casero y la voz de Dolores\n",
            "8- y el mar mojándome los pies\n",
            "11- y ser felíz es mi color de identidad\n",
            "14- O todo el tiempo para ver las estrellas\n"
          ]
        }
      ]
    },
    {
      "cell_type": "code",
      "source": [
        "patron = re.compile('[sd]$')\n",
        "for frase in texto:\n",
        "  if patron.findall(frase):         \n",
        "    print(frase)  "
      ],
      "metadata": {
        "colab": {
          "base_uri": "https://localhost:8080/"
        },
        "id": "XE1GBnJJAGq7",
        "outputId": "68a69612-16e7-4010-8c71-b4ee9aca37a8"
      },
      "execution_count": null,
      "outputs": [
        {
          "output_type": "stream",
          "name": "stdout",
          "text": [
            "1- Me gusta el sol, Alicia y las palomas\n",
            "3- saltar paredes y abrir las ventanas\n",
            "5- Me gusta el vino tanto como las flores\n",
            "6- y los conejos pero no los tractores\n",
            "7- y el pan casero y la voz de Dolores\n",
            "8- y el mar mojándome los pies\n",
            "11- y ser felíz es mi color de identidad\n",
            "14- O todo el tiempo para ver las estrellas\n"
          ]
        }
      ]
    },
    {
      "cell_type": "code",
      "source": [
        "for frase in texto:\n",
        "  if re.search('.*es$', frase):         \n",
        "    print(frase)"
      ],
      "metadata": {
        "colab": {
          "base_uri": "https://localhost:8080/"
        },
        "id": "eu5zRG18lPad",
        "outputId": "b493805c-99e6-4227-9fec-2fda59fe1a76"
      },
      "execution_count": null,
      "outputs": [
        {
          "output_type": "stream",
          "name": "stdout",
          "text": [
            "5- Me gusta el vino tanto como las flores\n",
            "6- y los conejos pero no los tractores\n",
            "7- y el pan casero y la voz de Dolores\n",
            "8- y el mar mojándome los pies\n"
          ]
        }
      ]
    },
    {
      "cell_type": "code",
      "source": [
        "patron = re.compile('.*es$')\n",
        "for frase in texto:\n",
        "  if patron.search(frase):         \n",
        "    print(frase)  "
      ],
      "metadata": {
        "colab": {
          "base_uri": "https://localhost:8080/"
        },
        "id": "V2jqWUielPqc",
        "outputId": "91a4271d-4063-4760-8c0a-8f98eee88897"
      },
      "execution_count": null,
      "outputs": [
        {
          "output_type": "stream",
          "name": "stdout",
          "text": [
            "5- Me gusta el vino tanto como las flores\n",
            "6- y los conejos pero no los tractores\n",
            "7- y el pan casero y la voz de Dolores\n",
            "8- y el mar mojándome los pies\n"
          ]
        }
      ]
    },
    {
      "cell_type": "markdown",
      "source": [
        "# Artículos 1708 - 1780 del Código Civil y Comercial de Argentina"
      ],
      "metadata": {
        "id": "xw35viWhEMxq"
      }
    },
    {
      "cell_type": "code",
      "source": [
        "CCyCN = [\n",
        "'ARTICULO 1708.- Funciones de la responsabilidad. Las disposiciones de este Título son aplicables a la prevención del daño y a su reparación.',\n",
        "'ARTICULO 1709.- Prelación normativa. En los casos en que concurran las disposiciones de este Código y las de alguna ley especial relativa a responsabilidad civil, son aplicables, en el siguiente orden de prelación: a) las normas indisponibles de este Código y de la ley especial; b) la autonomía de la voluntad; c) las normas supletorias de la ley especial;d) las normas supletorias de este Código.',\n",
        "'ARTICULO 1710.- Deber de prevención del daño. Toda persona tiene el deber, en cuanto de ella dependa, de: a) evitar causar un daño no justificado; b) adoptar, de buena fe y conforme a las circunstancias, las medidas razonables para evitar que se produzca un daño, o disminuir su magnitud; si tales medidas evitan o disminuyen la magnitud de un daño del cual un tercero sería responsable, tiene derecho a que éste le reembolse el valor de los gastos en que incurrió, conforme a las reglas del enriquecimiento sin causa; c) no agravar el daño, si ya se produjo.',       \n",
        "'ARTICULO 1711.- Acción preventiva. La acción preventiva procede cuando una acción u omisión antijurídica hace previsible la producción de un daño, su continuación o agravamiento. No es exigible la concurrencia de ningún factor de atribución.',\n",
        "'ARTICULO 1712.- Legitimación. Están legitimados para reclamar quienes acreditan un interés razonable en la prevención del daño.',\n",
        "'ARTICULO 1713.- Sentencia. La sentencia que admite la acción preventiva debe disponer, a pedido de parte o de oficio, en forma definitiva o provisoria, obligaciones de dar, hacer o no hacer, según corresponda; debe ponderar los criterios de menor restricción posible y de medio más idóneo para asegurar la eficacia en la obtención de la finalidad.',\n",
        "'ARTICULO 1714.- Punición excesiva. Si la aplicación de condenaciones pecuniarias administrativas, penales o civiles respecto de un hecho provoca una punición irrazonable o excesiva, el juez debe computarla a los fines de fijar prudencialmente su monto.',\n",
        "'ARTICULO 1715.- Facultades del juez. En el supuesto previsto en el artículo 1714 el juez puede dejar sin efecto, total o parcialmente, la medida.',\n",
        "'ARTICULO 1716.- Deber de reparar. La violación del deber de no dañar a otro, o el incumplimiento de una obligación, da lugar a la reparación del daño causado, conforme con las disposiciones de este Código.',\n",
        "'ARTICULO 1717.- Antijuridicidad. Cualquier acción u omisión que causa un daño a otro es antijurídica si no está justificada.',\n",
        "'ARTICULO 1718.- Legítima defensa, estado de necesidad y ejercicio regular de un derecho. Está justificado el hecho que causa un daño: a) en ejercicio regular de un derecho; b) en legítima defensa propia o de terceros, por un medio racionalmente proporcionado, frente a una agresión actual o inminente, ilícita y no provocada; el tercero que no fue agresor ilegítimo y sufre daños como consecuencia de un hecho realizado en legítima defensa tiene derecho a obtener una reparación plena;  c) para evitar un mal, actual o inminente, de otro modo inevitable, que amenaza al agente o a un tercero, si el peligro no se origina en un hecho suyo; el hecho se halla justificado únicamente si el mal que se evita es mayor que el que se causa. En este caso, el damnificado tiene derecho a ser indemnizado en la medida en que el juez lo considere equitativo.',\n",
        "'ARTICULO 1719.- Asunción de riesgos. La exposición voluntaria por parte de la víctima a una situación de peligro no justifica el hecho dañoso ni exime de responsabilidad a menos que, por las circunstancias del caso, ella pueda calificarse como un hecho del damnificado que interrumpe total o parcialmente el nexo causal. Quien voluntariamente se expone a una situación de peligro para salvar la persona o los bienes de otro tiene derecho, en caso de resultar dañado, a ser indemnizado por quien creó la situación de peligro, o por el beneficiado por el acto de abnegación. En este último caso, la reparación procede únicamente en la medida del enriquecimiento por él obtenido.',\n",
        "'ARTICULO 1720.- Consentimiento del damnificado. Sin perjuicio de disposiciones especiales, el consentimiento libre e informado del damnificado, en la medida en que no constituya una cláusula abusiva, libera de la responsabilidad por los daños derivados de la lesión de bienes disponibles.',\n",
        "'ARTICULO 1721.- Factores de atribución. La atribución de un daño al responsable puede basarse en factores objetivos o subjetivos. En ausencia de normativa, el factor de atribución es la culpa.',\n",
        "'ARTICULO 1722.- Factor objetivo. El factor de atribución es objetivo cuando la culpa del agente es irrelevante a los efectos de atribuir responsabilidad. En tales casos, el responsable se libera demos-trando la causa ajena, excepto disposición legal en contrario.',\n",
        "'ARTICULO 1723.- Responsabilidad objetiva. Cuando de las circunstancias de la obligación, o de lo convenido por las partes, surge que el deudor debe obtener un resultado determinado, su responsabilidad es objetiva.',\n",
        "'ARTICULO 1724.- Factores subjetivos. Son factores subjetivos de atribución la culpa y el dolo. La culpa consiste en la omisión de la diligencia debida según la naturaleza de la obligación y las circunstancias de las personas, el tiempo y el lugar. Comprende la imprudencia, la negligencia y la impericia en el arte o profesión. El dolo se configura por la producción de un daño de manera intencional o con manifiesta indiferencia por los intereses ajenos.',\n",
        "'ARTICULO 1725.- Valoración de la conducta. Cuanto mayor sea el deber de obrar con prudencia y pleno conocimiento de las cosas, mayor es la diligencia exigible al agente y la valoración de la previsibilidad de las consecuencias. Cuando existe una confianza especial, se debe tener en cuenta la naturaleza del acto y las condiciones particulares de las partes. Para valorar la conducta no se toma en cuenta la condición especial, o la facultad intelectual de una persona determinada, a no ser en los contratos que suponen una confianza especial entre las partes. En estos casos, se estima el grado de responsabilidad, por la condición especial del agente.',\n",
        "'ARTICULO 1726.- Relación causal. Son reparables las consecuencias dañosas que tienen nexo adecuado de causalidad con el hecho productor del daño. Excepto disposición legal en contrario, se indemnizan las consecuencias inmediatas y las mediatas previsibles.',\n",
        "'ARTICULO 1727.- Tipos de consecuencias. Las consecuencias de un hecho que acostumbran a suceder según el curso natural y ordinario de las cosas, se llaman en este Código “consecuencias inmediatas”. Las consecuencias que resultan solamente de la conexión de un hecho con un acontecimiento distinto, se llaman “consecuencias mediatas”. Las consecuencias mediatas que no pueden preverse se llaman “consecuencias casuales”.',\n",
        "'ARTICULO 1728.- Previsibilidad contractual. En los contratos se responde por las consecuencias que las partes previeron o pudieron haber previsto al momento de su celebración. Cuando existe dolo del deudor, la responsabilidad se fija tomando en cuenta estas consecuencias también al momento del incumplimiento.',\n",
        "'ARTICULO 1729.- Hecho del damnificado. La responsabilidad puede ser excluida o limitada por la incidencia del hecho del damnificado en la producción del daño, excepto que la ley o el contrato dispongan que debe tratarse de su culpa, de su dolo, o de cualquier otra circunstancia especial.',\n",
        "'ARTICULO 1730.- Caso fortuito. Fuerza mayor. Se considera caso fortuito o fuerza mayor al hecho que no ha podido ser previsto o que, habiendo sido previsto, no ha podido ser evitado. El caso fortuito o fuerza mayor exime de responsabilidad, excepto disposición en contrario. Este Código emplea los términos “caso fortuito” y “fuerza mayor” como sinónimos.',\n",
        "'ARTICULO 1731.- Hecho de un tercero. Para eximir de responsabilidad, total o parcialmente, el hecho de un tercero por quien no se debe responder debe reunir los caracteres del caso fortuito.',\n",
        "'ARTICULO 1732.- Imposibilidad de cumplimiento. El deudor de una obligación queda eximido del cumplimiento, y no es responsable, si la obligación se ha extinguido por imposibilidad de cumplimiento objetiva y absoluta no imputable al obligado. La existencia de esa imposibilidad debe apreciarse teniendo en cuenta las exigencias de la buena fe y la prohibición del ejercicio abusivo de los derechos.',\n",
        "'ARTICULO 1733.- Responsabilidad por caso fortuito o por imposibilidad de cumplimiento. Aunque ocurra el caso fortuito o la imposibilidad de cumplimiento, el deudor es responsable en los siguientes casos: a) si ha asumido el cumplimiento aunque ocurra un caso fortuito o una imposibilidad; b) si de una disposición legal resulta que no se libera por caso fortuito o por imposibilidad de cumplimiento; c) si está en mora, a no ser que ésta sea indiferente para la producción del caso fortuito o de la imposibilidad de cumplimiento; d) si el caso fortuito o la imposibilidad de cumplimiento sobrevienen por su culpa; e) si el caso fortuito y, en su caso, la imposibilidad de cumplimiento que de él resulta, constituyen una contingencia propia del riesgo de la cosa o la actividad; f) si está obligado a restituir como consecuencia de un hecho ilícito.',\n",
        "'ARTICULO 1734.- Prueba de los factores de atribución y de las eximentes. Excepto disposición legal, la carga de la prueba de los factores de atribución y de las circunstancias eximentes corresponde a quien los alega.',\n",
        "'ARTICULO 1735.- Facultades judiciales. No obstante, el juez puede distribuir la carga de la prueba de la culpa o de haber actuado con la diligencia debida, ponderando cuál de las partes se halla en mejor situación para aportarla. Si el juez lo considera pertinente, durante el proceso debe comunicar a las partes que aplicará este criterio, de modo de permitir a los litigantes ofrecer y producir los elementos de convicción que hagan a su defensa.',\n",
        "'ARTICULO 1736.- Prueba de la relación de causalidad. La carga de la prueba de la relación de causalidad corresponde a quien la alega, excepto que la ley la impute o la presuma. La carga de la prueba de la causa ajena, o de la imposibilidad de cumplimiento, recae sobre quien la invoca.',\n",
        "'ARTICULO 1737.- Concepto de daño. Hay daño cuando se lesiona un derecho o un interés no reprobado por el ordenamiento jurídico, que tenga por objeto la persona, el patrimonio, o un derecho de incidencia colectiva.',\n",
        "'ARTICULO 1738.- Indemnización. La indemnización comprende la pérdida o disminución del patrimonio de la víctima, el lucro cesante en el beneficio económico esperado de acuerdo a la probabilidad objetiva de su obtención y la pérdida de chances. Incluye especialmente las consecuencias de la violación de los derechos personalísimos de la víctima, de su integridad personal, su salud psicofísica, sus afecciones espirituales legítimas y las que resultan de la interferencia en su proyecto de vida.',\n",
        "'ARTICULO 1739.- Requisitos. Para la procedencia de la indemnización debe existir un perjuicio directo o indirecto, actual o futuro, cierto y subsistente. La pérdida de chance es indemnizable en la medida en que su contingencia sea razonable y guarde una adecuada relación de causalidad con el hecho generador.',\n",
        "'ARTICULO 1740.- Reparación plena. La reparación del daño debe ser plena. Consiste en la restitución de la situación del damnificado al estado anterior al hecho dañoso, sea por el pago en dinero o en especie. La víctima puede optar por el reintegro específico, excepto que sea parcial o totalmente imposible, excesivamente oneroso o abusivo, en cuyo caso se debe fijar en dinero. En el caso de daños derivados de la lesión del honor, la intimidad o la identidad personal, el juez puede, a pedido de parte, ordenar la publicación de la sentencia, o de sus partes pertinentes, a costa del responsable.',\n",
        "'ARTICULO 1741.- Indemnización de las consecuencias no patrimoniales. Está legitimado para reclamar la indemnización de las consecuencias no patrimoniales el damnificado directo. Si del hecho resulta su muerte o sufre gran discapacidad también tienen legitimación a título personal, según las circunstancias, los ascendientes, los descendientes, el cónyuge y quienes convivían con aquél recibiendo trato familiar ostensible. La acción sólo se transmite a los sucesores universales del legitimado si es interpuesta por éste. El monto de la indemnización debe fijarse ponderando las satisfacciones sustitutivas y compensatorias que pueden procurar las sumas reconocidas.',\n",
        "'ARTICULO 1742.- Atenuación de la responsabilidad. El juez, al fijar la indemnización, puede atenuarla si es equitativo en función del patrimonio del deudor, la situación personal de la víctima y las cir-cunstancias del hecho. Esta facultad no es aplicable en caso de dolo del responsable.',\n",
        "'ARTICULO 1743.- Dispensa anticipada de la responsabilidad. Son inválidas las cláusulas que eximen o limitan la obligación de indemnizar cuando afectan derechos indisponibles, atentan contra la buena fe, las buenas costumbres o leyes imperativas, o son abusivas. Son también inválidas si liberan anticipadamente, en forma total o parcial, del daño sufrido por dolo del deudor o de las personas por las cuales debe responder.',\n",
        "'ARTICULO 1744.- Prueba del daño. El daño debe ser acreditado por quien lo invoca, excepto que la ley lo impute o presuma, o que surja notorio de los propios hechos.',\n",
        "'ARTICULO 1745.- Indemnización por fallecimiento. En caso de muerte, la indemnización debe consistir en: a) los gastos necesarios para asistencia y posterior funeral de la víctima. El derecho a repetirlos incumbe a quien los paga, aunque sea en razón de una obligación legal; b) lo necesario para alimentos del cónyuge, del conviviente, de los hijos menores de veintiún años de edad con derecho alimentario, de los hijos incapaces o con capacidad restringida, aunque no hayan sido declarados tales judicialmente; esta indemnización procede aun cuando otra persona deba prestar alimentos al damnificado indirecto; el juez, para fijar la reparación, debe tener en cuenta el tiempo probable de vida de la víctima, sus condiciones personales y las de los reclamantes; c) la pérdida de chance de ayuda futura como consecuencia de la muerte de los hijos; este derecho también compete a quien tenga la guarda del menor fallecido.',\n",
        "'ARTICULO 1746.- Indemnización por lesiones o incapacidad física o psíquica. En caso de lesiones o incapacidad permanente, física o psíquica, total o parcial, la indemnización debe ser evaluada mediante la determinación de un capital, de tal modo que sus rentas cubran la disminución de la aptitud del damnificado para realizar actividades productivas o económicamente valorables, y que se agote al término del plazo en que razonablemente pudo continuar realizando tales actividades. Se presumen los gastos médicos, farmacéuticos y por transporte que resultan razonables en función de la índole de las lesiones o la incapacidad. En el supuesto de incapacidad permanente se debe indemnizar el daño aunque el damnificado continúe ejerciendo una tarea remunerada. Esta indemnización procede aun cuando otra persona deba prestar alimentos al damnificado.',\n",
        "'ARTICULO 1747.- Acumulabilidad del daño moratorio. El resarcimiento del daño moratorio es acumulable al del daño compensatorio o al valor de la prestación y, en su caso, a la cláusula penal compensatoria, sin perjuicio de la facultad morigeradora del juez cuando esa acumulación resulte abusiva.',\n",
        "'ARTICULO 1748.- Curso de los intereses. El curso de los intereses comienza desde que se produce cada perjuicio.',\n",
        "'ARTICULO 1749.- Sujetos responsables. Es responsable directo quien incumple una obligación u ocasiona un daño injustificado por acción u omisión.',\n",
        "'ARTICULO 1750.- Daños causados por actos involuntarios. El autor de un daño causado por un acto involuntario responde por razones de equidad. Se aplica lo dispuesto en el artículo 1742. El acto realizado por quien sufre fuerza irresistible no genera responsabilidad para su autor, sin perjuicio de la que corresponde a título personal a quien ejerce esa fuerza.',\n",
        "'ARTICULO 1751.- Pluralidad de responsables. Si varias personas participan en la producción del daño que tiene una causa única, se aplican las reglas de las obligaciones solidarias. Si la pluralidad deriva de causas distintas, se aplican las reglas de las obligaciones concurrentes.',\n",
        "'ARTICULO 1752.- Encubrimiento. El encubridor responde en cuanto su cooperación ha causado daño.',\n",
        "'ARTICULO 1753.- Responsabilidad del principal por el hecho del dependiente. El principal responde objetivamente por los daños que causen los que están bajo su dependencia, o las personas de las cuales se sirve para el cumplimiento de sus obligaciones, cuando el hecho dañoso acaece en ejercicio o con ocasión de las funciones encomendadas. La falta de discernimiento del dependiente no excusa al principal. La responsabilidad del principal es concurrente con la del dependiente.',\n",
        "'ARTICULO 1754.- Hecho de los hijos. Los padres son solidariamente responsables por los daños causados por los hijos que se encuentran bajo su responsabilidad parental y que habitan con ellos, sin perjuicio de la responsabilidad personal y concurrente que pueda caber a los hijos.',\n",
        "'ARTICULO 1755.- Cesación de la responsabilidad paterna. La responsabilidad de los padres es objetiva, y cesa si el hijo menor de edad es puesto bajo la vigilancia de otra persona, transitoria o permanentemente. No cesa en el supuesto previsto en el artículo 643. Los padres no se liberan, aunque el hijo menor de edad no conviva con ellos, si esta circunstancia deriva de una causa que les es atribuible. Los padres no responden por los daños causados por sus hijos en tareas inherentes al ejercicio de su profesión o de funciones subordinadas encomendadas por terceros. Tampoco responden por el incumplimiento de obligaciones contractuales válidamente contraídas por sus hijos.',\n",
        "'ARTICULO 1756.- Otras personas encargadas. Los delegados en el ejercicio de la responsabilidad parental, los tutores y los curadores son responsables como los padres por el daño causado por quienes están a su cargo. Sin embargo, se liberan si acreditan que les ha sido imposible evitar el daño; tal imposibilidad no resulta de la mera circunstancia de haber sucedido el hecho fuera de su presencia. El establecimiento que tiene a su cargo personas internadas responde por la negligencia en el cuidado de quienes, transitoria o permanentemente, han sido puestas bajo su vigilancia y control.',\n",
        "'ARTICULO 1757.- Hecho de las cosas y actividades riesgosas. Toda persona responde por el daño causado por el riesgo o vicio de las cosas, o de las actividades que sean riesgosas o peligrosas por su naturaleza, por los medios empleados o por las circunstancias de su realización. La responsabilidad es objetiva. No son eximentes la autorización administrativa para el uso de la cosa o la realización de la actividad, ni el cumplimiento de las técnicas de prevención.',\n",
        "'ARTICULO 1758.- Sujetos responsables. El dueño y el guardián son responsables concurrentes del daño causado por las cosas. Se considera guardián a quien ejerce, por sí o por terceros, el uso, la dirección y el control de la cosa, o a quien obtiene un provecho de ella. El dueño y el guardián no responden si prueban que la cosa fue usada en contra de su voluntad expresa o presunta. En caso de actividad riesgosa o peligrosa responde quien la realiza, se sirve u obtiene provecho de ella, por sí o por terceros, excepto lo dispuesto por la legislación especial.',\n",
        "'ARTICULO 1759.- Daño causado por animales. El daño causado por animales, cualquiera sea su especie, queda comprendido en el artículo 1757.',\n",
        "'ARTICULO 1760.- Cosa suspendida o arrojada. Si de una parte de un edificio cae una cosa, o si ésta es arrojada, los dueños y ocupantes de dicha parte responden solidariamente por el daño que cause. Sólo se libera quien demuestre que no participó en su producción.',\n",
        "'ARTICULO 1761.- Autor anónimo. Si el daño proviene de un miembro no identificado de un grupo determinado responden solidariamente todos sus integrantes, excepto aquel que demuestre que no ha contribuido a su producción.',\n",
        "'ARTICULO 1762.- Actividad peligrosa de un grupo. Si un grupo realiza una actividad peligrosa para terceros, todos sus integrantes responden solidariamente por el daño causado por uno o más de sus miembros. Sólo se libera quien demuestra que no integraba el grupo.',\n",
        "'ARTICULO 1763.- Responsabilidad de la persona jurídica. La persona jurídica responde por los daños que causen quienes las dirigen o administran en ejercicio o con ocasión de sus funciones.',\n",
        "'ARTICULO 1764.- Inaplicabilidad de normas. Las disposiciones del Capítulo 1 de este Título no son aplicables a la responsabilidad del Estado de manera directa ni subsidiaria.',\n",
        "'ARTICULO 1765.- Responsabilidad del Estado. La responsabilidad del Estado se rige por las normas y principios del derecho administrativo nacional o local según corresponda.',\n",
        "'ARTICULO 1766.- Responsabilidad del funcionario y del empleado público. Los hechos y las omisiones de los funcionarios públicos en el ejercicio de sus funciones por no cumplir sino de una manera irregular las obligaciones legales que les están impuestas se rigen por las normas y principios del derecho administrativo nacional o local, según corresponda.',\n",
        "'ARTICULO 1767.- Responsabilidad de los establecimientos educativos. El titular de un establecimiento educativo responde por el daño causado o sufrido por sus alumnos menores de edad cuando se hallen o deban hallarse bajo el control de la autoridad escolar. La responsabilidad es objetiva y se exime sólo con la prueba del caso fortuito. El establecimiento educativo debe contratar un seguro de responsabilidad civil, de acuerdo a los requisitos que fije la autoridad en materia aseguradora. Esta norma no se aplica a los establecimientos de educación superior o universitaria.',\n",
        "'ARTICULO 1768.- Profesionales liberales. La actividad del profesional liberal está sujeta a las reglas de las obligaciones de hacer. La responsabilidad es subjetiva, excepto que se haya comprometido un resultado concreto. Cuando la obligación de hacer se preste con cosas, la responsabilidad no está comprendida en la Sección 7a, de este Capítulo, excepto que causen un daño derivado de su vicio. La actividad del profesional liberal no está comprendida en la responsabilidad por actividades riesgosas previstas en el artículo 1757.',\n",
        "'ARTICULO 1769.- Accidentes de tránsito. Los artículos referidos a la responsabilidad derivada de la intervención de cosas se aplican a los daños causados por la circulación de vehículos.',\n",
        "'ARTICULO 1770.- Protección de la vida privada. El que arbitrariamente se entromete en la vida ajena y publica retratos, difunde correspondencia, mortifica a otros en sus costumbres o sentimientos, o perturba de cualquier modo su intimidad, debe ser obligado a cesar en tales actividades, si antes no cesaron, y a pagar una indemnización que debe fijar el juez, de acuerdo con las circunstancias. Además, a pedido del agraviado, puede ordenarse la publicación de la sentencia en un diario o periódico del lugar, si esta medida es procedente para una adecuada reparación.',\n",
        "'ARTICULO 1771.- Acusación calumniosa. En los daños causados por una acusación calumniosa sólo se responde por dolo o culpa grave. El denunciante o querellante responde por los daños derivados de la falsedad de la denuncia o de la querella si se prueba que no tenía razones justificables para creer que el damnificado estaba implicado.',\n",
        "'ARTICULO 1772.- Daños causados a cosas o bienes. Sujetos legitimados. La reparación del menoscabo a un bien o a una cosa puede ser reclamado por: a) el titular de un derecho real sobre la cosa o bien; b) el tenedor y el poseedor de buena fe de la cosa o bien.',\n",
        "'ARTICULO 1773.- Acción contra el responsable directo e indirecto. El legitimado tiene derecho a interponer su acción, conjunta o separadamente, contra el responsable directo y el indirecto.',\n",
        "'ARTICULO 1774.- Independencia. La acción civil y la acción penal resultantes del mismo hecho pueden ser ejercidas independientemente. En los casos en que el hecho dañoso configure al mismo tiempo un delito del derecho criminal, la acción civil puede interponerse ante los jueces penales, conforme a las disposiciones de los códigos procesales o las leyes especiales.',\n",
        "'ARTICULO 1775.- Suspensión del dictado de la sentencia civil. Si la acción penal precede a la acción civil, o es intentada durante su curso, el dictado de la sentencia definitiva debe suspenderse en el proceso civil hasta la conclusión del proceso penal, con excepción de los siguientes casos: a) si median causas de extinción de la acción penal; b) si la dilación del procedimiento penal provoca, en los hechos, una frustración efectiva del derecho a ser indemnizado; c) si la acción civil por reparación del daño está fundada en un factor objetivo de responsabilidad.',\n",
        "'ARTICULO 1776.- Condena penal. La sentencia penal condenatoria produce efectos de cosa juzgada en el proceso civil respecto de la existencia del hecho principal que constituye el delito y de la culpa del condenado.',\n",
        "'ARTICULO 1777.- Inexistencia del hecho, de autoría, de delito o de responsabilidad penal. Si la sentencia penal decide que el hecho no existió o que el sindicado como responsable no participó, estas circunstancias no pueden ser discutidas en el proceso civil. Si la sentencia penal decide que un hecho no constituye delito penal o que no compromete la responsabilidad penal del agente, en el proceso civil puede discutirse libremente ese mismo hecho en cuanto generador de responsabilidad civil.',\n",
        "'ARTICULO 1778.- Excusas absolutorias. Las excusas absolutorias penales no afectan a la acción civil, excepto disposición legal expresa en contrario.',\n",
        "'ARTICULO 1779.- Impedimento de reparación del daño. Impiden la reparación del daño: a) la prueba de la verdad del hecho reputado calumnioso; b) en los delitos contra la vida, haber sido coautor o cómplice, o no haber impedido el hecho pudiendo hacerlo.',\n",
        "'ARTICULO 1780.- Sentencia penal posterior. La sentencia penal posterior a la sentencia civil no produce ningún efecto sobre ella, excepto en el caso de revisión. La revisión procede exclusivamente, y a petición de parte interesada, en los siguientes supuestos: a) si la sentencia civil asigna alcances de cosa juzgada a cuestiones resueltas por la sentencia penal y ésta es revisada respecto de esas cuestiones, excepto que derive de un cambio en la legislación; b) en el caso previsto en el artículo 1775 inciso c) si quien fue juzgado responsable en la acción civil es absuelto en el juicio criminal por inexistencia del hecho que funda la condena civil, o por no ser su autor; c) otros casos previstos por la ley.'\n",
        "]\n"
      ],
      "metadata": {
        "id": "2Db6bsigCiUm"
      },
      "execution_count": null,
      "outputs": []
    },
    {
      "cell_type": "markdown",
      "source": [
        "# Comparando tiempos"
      ],
      "metadata": {
        "id": "y_yOGgZrMofE"
      }
    },
    {
      "cell_type": "code",
      "source": [
        "import time"
      ],
      "metadata": {
        "id": "PG0GI1YpmalO"
      },
      "execution_count": null,
      "outputs": []
    },
    {
      "cell_type": "markdown",
      "source": [
        "## Patrón: 'padres'"
      ],
      "metadata": {
        "id": "TPgVPNz_NBqL"
      }
    },
    {
      "cell_type": "code",
      "source": [
        "print(\"Sin utilizar .compile()\")\n",
        "t0 = time.time()\n",
        "\n",
        "contador = 0\n",
        "for articulo in CCyCN:\n",
        "  if re.findall('padres', articulo):\n",
        "    contador += 1\n",
        "print(\"Artículos encontrados: \"+str(contador))\n",
        "\n",
        "t1 = time.time()\n",
        "print(\"<-- El tiempo sin usar .compile() fue de: \"+str(t1-t0)+'\\n')\n",
        "\n",
        "###################################\n",
        "###################################\n",
        "print(\"Utilizando .compile()\")\n",
        "t0 = time.time()\n",
        "\n",
        "contador = 0\n",
        "patron = re.compile('padres')\n",
        "for articulo in CCyCN:\n",
        "  if patron.findall(articulo):         \n",
        "    contador += 1\n",
        "print(\"Artículos encontrados: \"+str(contador))\n",
        "\n",
        "t1 = time.time()\n",
        "print(\"<-- El tiempo usando .compile() fue de: \"+str(t1-t0))"
      ],
      "metadata": {
        "colab": {
          "base_uri": "https://localhost:8080/"
        },
        "id": "hF-uaptHECzR",
        "outputId": "7e871a63-d155-42fb-c3bb-33233887a1d1"
      },
      "execution_count": null,
      "outputs": [
        {
          "output_type": "stream",
          "name": "stdout",
          "text": [
            "Sin utilizar .compile()\n",
            "Artículos encontrados: 3\n",
            "<-- El tiempo sin usar .compile() fue de: 0.0010411739349365234\n",
            "\n",
            "Utilizando .compile()\n",
            "Artículos encontrados: 3\n",
            "<-- El tiempo usando .compile() fue de: 0.0005550384521484375\n"
          ]
        }
      ]
    },
    {
      "cell_type": "markdown",
      "source": [
        "## Patrón: 'indemnización'"
      ],
      "metadata": {
        "id": "HVimlTf5NFdi"
      }
    },
    {
      "cell_type": "code",
      "source": [
        "print(\"Sin utilizar .compile()\")\n",
        "t0 = time.time()\n",
        "\n",
        "contador=0\n",
        "for articulo in CCyCN:\n",
        "  if re.search('indemnización', articulo):\n",
        "    contador += 1\n",
        "print(\"Artículos encontrados: \"+str(contador))\n",
        "\n",
        "t1 = time.time()\n",
        "print(\"<-- El tiempo sin usar .compile() fue de: \"+str(t1-t0)+'\\n')\n",
        "###################################\n",
        "###################################\n",
        "print(\"Utilizando .compile()\")\n",
        "t0 = time.time()\n",
        "\n",
        "patron = re.compile('indemnización')\n",
        "contador = 0\n",
        "for articulo in CCyCN:\n",
        "  if patron.search(articulo):         \n",
        "    contador += 1\n",
        "print(\"Artículos encontrados: \"+str(contador))\n",
        "\n",
        "t1 = time.time()\n",
        "print(\"<-- Tiempo: \"+str(t1-t0)+'\\n')"
      ],
      "metadata": {
        "colab": {
          "base_uri": "https://localhost:8080/"
        },
        "id": "-uBqmnzcKAk6",
        "outputId": "638f9a52-c39c-4131-fca5-858a96131532"
      },
      "execution_count": null,
      "outputs": [
        {
          "output_type": "stream",
          "name": "stdout",
          "text": [
            "Sin utilizar .compile()\n",
            "Artículos encontrados: 7\n",
            "<-- El tiempo sin usar .compile() fue de: 0.00043845176696777344\n",
            "\n",
            "Utilizando .compile()\n",
            "Artículos encontrados: 7\n",
            "<-- Tiempo: 0.0003504753112792969\n",
            "\n"
          ]
        }
      ]
    },
    {
      "cell_type": "markdown",
      "source": [
        "## Patrón: 'responsabilidad'"
      ],
      "metadata": {
        "id": "T1gfmua-NMHq"
      }
    },
    {
      "cell_type": "code",
      "source": [
        "print(\"Sin utilizar .compile()\")\n",
        "t0 = time.time()\n",
        "\n",
        "contador=0\n",
        "for articulo in CCyCN:\n",
        "  if re.findall('responsabilidad', articulo):\n",
        "    contador+=1 \n",
        "\n",
        "print(\"Artículos encontrados: \"+str(contador))\n",
        "\n",
        "t1 = time.time()\n",
        "\n",
        "print(\"<-- Tiempo: \"+str(t1-t0)+'\\n')\n",
        "###################################\n",
        "###################################\n",
        "print(\"Utilizando .compile()\")\n",
        "t0 = time.time()\n",
        "\n",
        "patron = re.compile('responsabilidad')\n",
        "contador = 0\n",
        "for articulo in CCyCN:\n",
        "  if patron.findall(articulo):         \n",
        "    contador += 1\n",
        "print(\"Artículos encontrados: \"+str(contador))\n",
        "\n",
        "t1 = time.time()\n",
        "print(\"<-- Tiempo: \"+str(t1-t0)+'\\n')"
      ],
      "metadata": {
        "colab": {
          "base_uri": "https://localhost:8080/"
        },
        "id": "PicpMmkANQaK",
        "outputId": "a50aa794-9572-4b79-e02a-599376eff983"
      },
      "execution_count": null,
      "outputs": [
        {
          "output_type": "stream",
          "name": "stdout",
          "text": [
            "Sin utilizar .compile()\n",
            "Artículos encontrados: 26\n",
            "<-- Tiempo: 0.0009279251098632812\n",
            "\n",
            "Utilizando .compile()\n",
            "Artículos encontrados: 26\n",
            "<-- Tiempo: 0.0005886554718017578\n",
            "\n"
          ]
        }
      ]
    },
    {
      "cell_type": "markdown",
      "source": [
        "## Patrón: 'ARTICULO'"
      ],
      "metadata": {
        "id": "9QWjjVG8pm50"
      }
    },
    {
      "cell_type": "code",
      "source": [
        "print(\"Sin utilizar .compile()\")\n",
        "t0 = time.time()\n",
        "\n",
        "contador=0\n",
        "for articulo in CCyCN:\n",
        "  if re.search('ARTICULO', articulo):\n",
        "    contador+=1 \n",
        "\n",
        "print(\"Artículos encontrados: \"+str(contador))\n",
        "t1 = time.time()\n",
        "print(\"<-- Tiempo: \"+str(t1-t0)+\"\\n\")\n",
        "\n",
        "###############################\n",
        "###################################\n",
        "print(\"Utilizando .compile()\")\n",
        "t0 = time.time()\n",
        "patron = re.compile('ARTICULO')\n",
        "contador = 0\n",
        "for articulo in CCyCN:\n",
        "  if patron.search(articulo):         \n",
        "    contador += 1\n",
        "print(\"Artículos encontrados: \"+str(contador))\n",
        "t1 = time.time()\n",
        "print(\"<-- Tiempo: \"+str(t1-t0)+'\\n')\n"
      ],
      "metadata": {
        "colab": {
          "base_uri": "https://localhost:8080/"
        },
        "id": "CN6og9rLoLr9",
        "outputId": "f95573ed-1a8f-4473-fd19-17e8c8979627"
      },
      "execution_count": null,
      "outputs": [
        {
          "output_type": "stream",
          "name": "stdout",
          "text": [
            "Sin utilizar .compile()\n",
            "Artículos encontrados: 73\n",
            "<-- Tiempo: 0.0008313655853271484\n",
            "\n",
            "Utilizando .compile()\n",
            "Artículos encontrados: 73\n",
            "<-- Tiempo: 0.0005142688751220703\n",
            "\n"
          ]
        }
      ]
    }
  ]
}