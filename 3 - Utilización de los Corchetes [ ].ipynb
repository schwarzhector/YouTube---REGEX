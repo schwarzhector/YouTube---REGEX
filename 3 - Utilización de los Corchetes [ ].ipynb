{
  "nbformat": 4,
  "nbformat_minor": 0,
  "metadata": {
    "colab": {
      "name": "2.3 REGEX.ipynb",
      "provenance": []
    },
    "kernelspec": {
      "name": "python3",
      "display_name": "Python 3"
    },
    "language_info": {
      "name": "python"
    }
  },
  "cells": [
    {
      "cell_type": "markdown",
      "source": [
        "Código utilizado en el video:<br>\n",
        "https://youtu.be/41jE7c8hx0s"
      ],
      "metadata": {
        "id": "lgagUrq9RN5Q"
      }
    },
    {
      "cell_type": "markdown",
      "source": [
        "# Utilización de los Corchetes [ ]"
      ],
      "metadata": {
        "id": "58tOeVmA8pwR"
      }
    },
    {
      "cell_type": "code",
      "source": [
        "import re"
      ],
      "metadata": {
        "id": "V8VCKBR85ZaA"
      },
      "execution_count": null,
      "outputs": []
    },
    {
      "cell_type": "code",
      "execution_count": null,
      "metadata": {
        "id": "xyZ9w8y74veX",
        "colab": {
          "base_uri": "https://localhost:8080/"
        },
        "outputId": "dddedf12-3f7f-4201-a72d-16c10d1073a7"
      },
      "outputs": [
        {
          "output_type": "stream",
          "name": "stdout",
          "text": [
            "2- el buen cigarro y la guitarra española\n",
            "8- y el mar mojándome los pies\n",
            "9- no soy de aqui ni soy de allá\n"
          ]
        }
      ],
      "source": [
        "texto =[    '1- Me gusta el sol, Alicia y las palomas',\n",
        "            '2- el buen cigarro y la guitarra española',\n",
        "            '3- saltar paredes y abrir las ventanas',\n",
        "            '4- y cuando llora una mujer (de alegría)',\n",
        "            '5- Me gusta el vino tanto como las flores',\n",
        "            '6- y los conejos pero no los tractores',\n",
        "            '7- y el pan casero y la voz de Dolores',\n",
        "            '8- y el mar mojándome los pies',\n",
        "            '9- no soy de aqui ni soy de allá',\n",
        "            '10- no tengo edad mi porvenir',\n",
        "            '11- y ser felíz es mi color de identidad'\n",
        "          ]\n",
        "\n",
        "for frase in texto:\n",
        "  if re.search('[áñ]', frase):\n",
        "    print(frase)\n"
      ]
    },
    {
      "cell_type": "code",
      "source": [
        "for frase in texto:\n",
        "  if re.search('[3-6]', frase):\n",
        "    print(frase)"
      ],
      "metadata": {
        "colab": {
          "base_uri": "https://localhost:8080/"
        },
        "id": "460bjfZ_FUZS",
        "outputId": "1c7e0f18-8bbd-4390-a8c7-ed7879e66079"
      },
      "execution_count": null,
      "outputs": [
        {
          "output_type": "stream",
          "name": "stdout",
          "text": [
            "3- saltar paredes y abrir las ventanas\n",
            "4- y cuando llora una mujer (de alegría)\n",
            "5- Me gusta el vino tanto como las flores\n",
            "6- y los conejos pero no los tractores\n"
          ]
        }
      ]
    },
    {
      "cell_type": "code",
      "source": [
        "texto =[    'Me gusta el sol, Alicia y las palomas',\n",
        "            'el buen cigarro y la guitarra española',\n",
        "            'saltar paredes y abrir las ventanas',\n",
        "            'y cuando llora una mujer (de alegría)',\n",
        "            'Me gusta el vino tanto como las flores',\n",
        "            'y los conejos pero no los tractores',\n",
        "            'y el pan casero y la voz de Dolores',\n",
        "            'y el mar mojándome los pies',\n",
        "            'no soy de aqui ni soy de allá',\n",
        "            'no tengo edad mi porvenir',\n",
        "            'y ser felíz es mi color de identidad'\n",
        "          ]\n",
        "for frase in texto:\n",
        "  if re.search('^[sn]', frase):\n",
        "    print(frase)"
      ],
      "metadata": {
        "colab": {
          "base_uri": "https://localhost:8080/"
        },
        "id": "HOYwSbC3_4ia",
        "outputId": "f9beb981-46a0-482a-dc59-56135e2a7978"
      },
      "execution_count": null,
      "outputs": [
        {
          "output_type": "stream",
          "name": "stdout",
          "text": [
            "saltar paredes y abrir las ventanas\n",
            "no soy de aqui ni soy de allá\n",
            "no tengo edad mi porvenir\n"
          ]
        }
      ]
    },
    {
      "cell_type": "code",
      "source": [
        "for frase in texto:\n",
        "  if re.search('[dr]$', frase):\n",
        "    print(frase)"
      ],
      "metadata": {
        "colab": {
          "base_uri": "https://localhost:8080/"
        },
        "id": "WTNFpd0hBu0U",
        "outputId": "dc79b6be-626d-4f61-dc68-93881cc4ad20"
      },
      "execution_count": null,
      "outputs": [
        {
          "output_type": "stream",
          "name": "stdout",
          "text": [
            "no tengo edad mi porvenir\n",
            "y ser felíz es mi color de identidad\n"
          ]
        }
      ]
    },
    {
      "cell_type": "code",
      "source": [
        "mascotas = [  \"Perros\",\n",
        "              \"Gato\",\n",
        "              \"Loros\",\n",
        "              \"Conejo\",\n",
        "              \"Gata\",\n",
        "              \"Perra\",\n",
        "              \"Gata\",\n",
        "              \"Iguana\",\n",
        "              \"Gato\"\n",
        "]\n",
        "contador = 0\n",
        "for frase in mascotas:\n",
        "  if re.search('Gat[oa]', frase):\n",
        "    contador += 1\n",
        "print(contador)"
      ],
      "metadata": {
        "colab": {
          "base_uri": "https://localhost:8080/"
        },
        "id": "t6j-iArn9br4",
        "outputId": "6bd3b1ad-8dbe-4ffb-978e-8634dce4c45c"
      },
      "execution_count": null,
      "outputs": [
        {
          "output_type": "stream",
          "name": "stdout",
          "text": [
            "4\n"
          ]
        }
      ]
    }
  ]
}