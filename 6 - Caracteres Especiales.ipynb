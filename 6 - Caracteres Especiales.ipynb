{
  "nbformat": 4,
  "nbformat_minor": 0,
  "metadata": {
    "colab": {
      "name": "REGEX 2.6.ipynb",
      "provenance": []
    },
    "kernelspec": {
      "name": "python3",
      "display_name": "Python 3"
    },
    "language_info": {
      "name": "python"
    }
  },
  "cells": [
    {
      "cell_type": "markdown",
      "source": [
        "Código utilizado en el video:<br>\n",
        "https://youtu.be/9sZyZG7izAQ"
      ],
      "metadata": {
        "id": "bR4sjZVSR67H"
      }
    },
    {
      "cell_type": "markdown",
      "source": [
        "# Caracteres Especiales:  '\\s', '.', '*' y '+'"
      ],
      "metadata": {
        "id": "N36MDG6AQqgf"
      }
    },
    {
      "cell_type": "code",
      "execution_count": null,
      "metadata": {
        "id": "CEFRboqFQaIB"
      },
      "outputs": [],
      "source": [
        "import re"
      ]
    },
    {
      "cell_type": "markdown",
      "source": [
        "## 1- El Punto '.' y el '\\s'"
      ],
      "metadata": {
        "id": "SR4T5NmVRIG3"
      }
    },
    {
      "cell_type": "code",
      "source": [
        "texto =[    \"1- Me gusta el sol, Alicia y las palomas \",\n",
        "            \"2- el buen cigarro y la guitarra española \",\n",
        "            \"3- saltar paredes y abrir las ventanas \",\n",
        "            \"4- y cuando llora una mujer (de alegría) \",\n",
        "            \"5- Me gusta el vino tanto como las flores \",\n",
        "            \"6- y los conejos pero no los tractores \",\n",
        "            \"7- y el pan casero y la voz de Dolores \",\n",
        "            \"8- y el mar mojándome los pies \",\n",
        "            \"9- no soy de aqui ni soy de allá \",\n",
        "            \"10- no tengo edad mi porvenir \",\n",
        "            \"11- y ser felíz es mi color de identidad \",\n",
        "            \"12- Me gusta estar tirado siempre en la arena \",\n",
        "            \"13- O en bicicleta perseguir a Manuela \",\n",
        "            \"14- O todo el tiempo para ver las estrellas \",\n",
        "            \"15- Con la María en el trigal \"\n",
        "          ]\n",
        "for frase in texto:\n",
        "  if re.findall('\\s...o\\s', frase):           # Cuatro caracteres finalizando en o\n",
        "    print(frase)"
      ],
      "metadata": {
        "colab": {
          "base_uri": "https://localhost:8080/"
        },
        "id": "nJ18QbnDQv8m",
        "outputId": "65e4155f-bb51-40a9-e3ed-96cec57de258"
      },
      "execution_count": null,
      "outputs": [
        {
          "output_type": "stream",
          "name": "stdout",
          "text": [
            "5- Me gusta el vino tanto como las flores \n",
            "6- y los conejos pero no los tractores \n",
            "14- O todo el tiempo para ver las estrellas \n"
          ]
        }
      ]
    },
    {
      "cell_type": "code",
      "source": [
        "for frase in texto:\n",
        "  if re.findall('\\s....a\\s', frase):          # Cinco caracteres finalizando en a\n",
        "    print(frase)"
      ],
      "metadata": {
        "colab": {
          "base_uri": "https://localhost:8080/"
        },
        "id": "EUHSWw9TU8wp",
        "outputId": "42efd1d3-1d57-4014-a540-961aadf3e560"
      },
      "execution_count": null,
      "outputs": [
        {
          "output_type": "stream",
          "name": "stdout",
          "text": [
            "1- Me gusta el sol, Alicia y las palomas \n",
            "4- y cuando llora una mujer (de alegría) \n",
            "5- Me gusta el vino tanto como las flores \n",
            "12- Me gusta estar tirado siempre en la arena \n",
            "15- Con la María en el trigal \n"
          ]
        }
      ]
    },
    {
      "cell_type": "markdown",
      "source": [
        "## 2- El Signo '+'"
      ],
      "metadata": {
        "id": "WEvidaiJS2mY"
      }
    },
    {
      "cell_type": "code",
      "source": [
        "texto =[    \"1- Me gusta el sol, Alicia y las palomas \",\n",
        "            \"2- el buen cigarro y la guitarra española \",\n",
        "            \"3- saltar paredes y abrir las ventanas \",\n",
        "            \"4- y cuando llora una mujer (de alegría) \",\n",
        "            \"5- Me gusta el vino tanto como las flores \",\n",
        "            \"6- y los conejos pero no los tractores \",\n",
        "            \"7- y el pan casero y la voz de Dolores \",\n",
        "            \"8- y el mar mojándome los pies \",\n",
        "            \"9- no soy de aqui ni soy de allá \",\n",
        "            \"10- no tengo edad mi porvenir \",\n",
        "            \"11- y ser felíz es mi color de identidad \",\n",
        "            \"12- Me gusta estar tirado siempre en la arena \",\n",
        "            \"13- O en bicicleta perseguir a Manuela \",\n",
        "            \"14- O todo el tiempo para ver las estrellas \",\n",
        "            \"15- Con la María en el trigal \"\n",
        "          ]\n",
        "for frase in texto:\n",
        "  if re.findall('(res)+', frase):           # Una o más veces el patrón 'res'\n",
        "    print(frase)"
      ],
      "metadata": {
        "colab": {
          "base_uri": "https://localhost:8080/"
        },
        "id": "AjekesKORqIt",
        "outputId": "96139b32-c990-4948-9b78-394e0662cf83"
      },
      "execution_count": null,
      "outputs": [
        {
          "output_type": "stream",
          "name": "stdout",
          "text": [
            "5- Me gusta el vino tanto como las flores \n",
            "6- y los conejos pero no los tractores \n",
            "7- y el pan casero y la voz de Dolores \n"
          ]
        }
      ]
    },
    {
      "cell_type": "code",
      "source": [
        "texto =[    \"1- Me gusta el sol, Alicia y las palomas \",\n",
        "            \"2- el buen cigarro y la guitarra española \",\n",
        "            \"3- saltar paredes y abrir las ventanas \",\n",
        "            \"4- y cuando llora una mujer (de alegría) \",\n",
        "            \"5- Me gusta el vino tanto como las flores \",\n",
        "            \"6- y los conejos pero no los tractores \",\n",
        "            \"7- y el pan casero y la voz de Dolores \",\n",
        "            \"8- y el mar mojándome los pies \",\n",
        "            \"9- no soy de aqui ni soy de allá \",\n",
        "            \"10- no tengo edad mi porvenir \",\n",
        "            \"11- y ser felíz es mi color de identidad \",\n",
        "            \"12- Me gusta estar tirado siempre en la arena \",\n",
        "            \"13- O en bicicleta perseguir a Manuela \",\n",
        "            \"14- O todo el tiempo para ver las estrellas \",\n",
        "            \"15- Con la María en el trigal \"\n",
        "          ]\n",
        "for frase in texto:\n",
        "  if re.findall('(os)+', frase):\n",
        "    print(frase)"
      ],
      "metadata": {
        "colab": {
          "base_uri": "https://localhost:8080/"
        },
        "id": "q2U87JtusYzp",
        "outputId": "53e1f865-d52f-456a-c434-820ac6c40993"
      },
      "execution_count": null,
      "outputs": [
        {
          "output_type": "stream",
          "name": "stdout",
          "text": [
            "6- y los conejos pero no los tractores \n",
            "8- y el mar mojándome los pies \n"
          ]
        }
      ]
    },
    {
      "cell_type": "markdown",
      "source": [
        "## 3 - El Asterisco '*'"
      ],
      "metadata": {
        "id": "0xCHbA92Xx6p"
      }
    },
    {
      "cell_type": "code",
      "source": [
        "texto =[    \"1- Me gusta el sol, Alicia y las palomas \",\n",
        "            \"2- el buen cigarro y la guitarra española \",\n",
        "            \"3- saltar paredes y abrir las ventanas \",\n",
        "            \"4- y cuando llora una mujer (de alegría) \",\n",
        "            \"5- Me gusta el vino tanto como las flores \",\n",
        "            \"6- y los conejos pero no los tractores \",\n",
        "            \"7- y el pan casero y la voz de Dolores \",\n",
        "            \"8- y el mar mojándome los pies \",\n",
        "            \"9- no soy de aqui ni soy de allá \",\n",
        "            \"10- no tengo edad mi porvenir \",\n",
        "            \"11- y ser felíz es mi color de identidad \",\n",
        "            \"12- Me gusta estar tirado siempre en la arena \",\n",
        "            \"13- O en bicicleta perseguir a Manuela \",\n",
        "            \"14- O todo el tiempo para ver las estrellas \",\n",
        "            \"15- Con la María en el trigal \"\n",
        "          ]\n",
        "for frase in texto:\n",
        "  #if re.findall('(ad)+', frase):                         # edad, identidad, tirado\n",
        "  #if re.findall('\\si.*(ad)+', frase):                    # identidad\n",
        "  if re.findall('\\s.*i.*(ad)+', frase):                   # identidad, tirado\n",
        "    print(frase)"
      ],
      "metadata": {
        "colab": {
          "base_uri": "https://localhost:8080/"
        },
        "id": "dYL6J0GdTGrm",
        "outputId": "3f8a8d26-32b4-4c0f-a312-f754bcad90df"
      },
      "execution_count": null,
      "outputs": [
        {
          "output_type": "stream",
          "name": "stdout",
          "text": [
            "11- y ser felíz es mi color de identidad \n",
            "12- Me gusta estar tirado siempre en la arena \n"
          ]
        }
      ]
    },
    {
      "cell_type": "code",
      "source": [
        "texto =[    \"1- Me gusta el sol, Alicia y las palomas \",\n",
        "            \"2- el buen cigarro y la guitarra española \",\n",
        "            \"3- saltar paredes y abrir las ventanas \",\n",
        "            \"4- y cuando llora una mujer (de alegría) \",\n",
        "            \"5- Me gusta el vino tanto como las flores \",\n",
        "            \"6- y los conejos pero no los tractores \",\n",
        "            \"7- y el pan casero y la voz de Dolores \",\n",
        "            \"8- y el mar mojándome los pies \",\n",
        "            \"9- no soy de aqui ni soy de allá \",\n",
        "            \"10- no tengo edad mi porvenir \",\n",
        "            \"11- y ser felíz es mi color de identidad \",\n",
        "            \"12- Me gusta estar tirado siempre en la arena \",\n",
        "            \"13- O en bicicleta perseguir a Manuela \",\n",
        "            \"14- O todo el tiempo para ver las estrellas \",\n",
        "            \"15- Con la María en el trigal \"\n",
        "          ]\n",
        "for frase in texto:\n",
        "  #if re.findall('\\s.*(ra)+\\s', frase):             # guitarra, llora, para\n",
        "  if re.findall('\\s.*(ra)+.*\\s', frase):            # guitarra, llora, tractores, tirado, para\n",
        "    print(frase)"
      ],
      "metadata": {
        "colab": {
          "base_uri": "https://localhost:8080/"
        },
        "id": "Dxr1dSmdsrSz",
        "outputId": "c9a4f049-eb73-4a40-ff80-396db61c1dfd"
      },
      "execution_count": null,
      "outputs": [
        {
          "output_type": "stream",
          "name": "stdout",
          "text": [
            "2- el buen cigarro y la guitarra española \n",
            "4- y cuando llora una mujer (de alegría) \n",
            "6- y los conejos pero no los tractores \n",
            "12- Me gusta estar tirado siempre en la arena \n",
            "14- O todo el tiempo para ver las estrellas \n"
          ]
        }
      ]
    }
  ]
}