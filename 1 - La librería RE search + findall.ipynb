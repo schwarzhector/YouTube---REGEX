{
  "nbformat": 4,
  "nbformat_minor": 0,
  "metadata": {
    "colab": {
      "name": "2.1 REGEX.ipynb",
      "provenance": []
    },
    "kernelspec": {
      "name": "python3",
      "display_name": "Python 3"
    },
    "language_info": {
      "name": "python"
    }
  },
  "cells": [
    {
      "cell_type": "markdown",
      "source": [
        "Código utilizado en el video:<br>\n",
        "https://youtu.be/YzBXEFkVC2M"
      ],
      "metadata": {
        "id": "WxUed7StQUum"
      }
    },
    {
      "cell_type": "markdown",
      "source": [
        "# 2.1 Expresiones Regulares (REGEX)\n"
      ],
      "metadata": {
        "id": "FU2B3bHG-Hjz"
      }
    },
    {
      "cell_type": "code",
      "source": [
        "import re"
      ],
      "metadata": {
        "id": "HVxCgDjX7BwY"
      },
      "execution_count": null,
      "outputs": []
    },
    {
      "cell_type": "markdown",
      "source": [
        "### .search()"
      ],
      "metadata": {
        "id": "hr9yQfVSCeHW"
      }
    },
    {
      "cell_type": "code",
      "source": [
        "texto =  \"\"\"Me gusta el sol, Alicia y las palomas,\n",
        "            el buen cigarro y la guitarra española,\n",
        "            saltar paredes y abrir las ventanas,\n",
        "            y cuando llora una mujer (de alegría).\n",
        "            Me gusta el vino tanto como las flores,\n",
        "            y los conejos pero no los tractores,\n",
        "            y el pan casero y la voz de Dolores\n",
        "            y el mar mojándome los pies,\n",
        "            no soy de aqui ni soy de allá,\n",
        "            no tengo edad mi porvenir,\n",
        "            y ser felíz es mi color de identidad\"\"\"\n",
        "\n",
        "resultado = re.search('pan casero', texto)\n",
        "\n",
        "if resultado != None:\n",
        "  print(\"Búsqueda exitosa\")\n",
        "  print(resultado)\n",
        "else:\n",
        "  print(\"No se encontró el patrón buscado\")"
      ],
      "metadata": {
        "colab": {
          "base_uri": "https://localhost:8080/"
        },
        "id": "81JgW7Zv8nSF",
        "outputId": "5b2542a6-447c-4131-ff99-ec80a9c068c3"
      },
      "execution_count": null,
      "outputs": [
        {
          "output_type": "stream",
          "name": "stdout",
          "text": [
            "Búsqueda exitosa\n",
            "<re.Match object; span=(309, 319), match='pan casero'>\n"
          ]
        }
      ]
    },
    {
      "cell_type": "code",
      "source": [
        "resultado = re.search('las', texto)\n",
        "\n",
        "if resultado != None:\n",
        "  print(\"Búsqueda exitosa\")\n",
        "  print(resultado)\n",
        "else:\n",
        "  print(\"No se encontró el patrón buscado\")"
      ],
      "metadata": {
        "colab": {
          "base_uri": "https://localhost:8080/"
        },
        "id": "-uWiglVK62Je",
        "outputId": "e94c1252-e027-4f4e-af96-d8ea84a37198"
      },
      "execution_count": null,
      "outputs": [
        {
          "output_type": "stream",
          "name": "stdout",
          "text": [
            "Búsqueda exitosa\n",
            "<re.Match object; span=(26, 29), match='las'>\n"
          ]
        }
      ]
    },
    {
      "cell_type": "markdown",
      "source": [
        "## .findall()"
      ],
      "metadata": {
        "id": "QgHqHQpeC0le"
      }
    },
    {
      "cell_type": "code",
      "source": [
        "texto =  \"\"\"Me gusta el sol, Alicia y las palomas,\n",
        "            el buen cigarro y la guitarra española,\n",
        "            saltar paredes y abrir las ventanas,\n",
        "            y cuando llora una mujer (de alegría).\n",
        "            Me gusta el vino tanto como las flores,\n",
        "            y los conejos pero no los tractores,\n",
        "            y el pan casero y la voz de Dolores\n",
        "            y el mar mojándome los pies,\n",
        "            no soy de aqui ni soy de allá,\n",
        "            no tengo edad mi porvenir,\n",
        "            y ser felíz es mi color de identidad\"\"\"\n",
        "            \n",
        "resultado = re.findall('las', texto)\n",
        "if resultado:  \n",
        "  print(\"Búsqueda exitosa\")\n",
        "  print(resultado)  \n",
        "else:\n",
        "  print(\"No se encontró el patrón buscado\")"
      ],
      "metadata": {
        "colab": {
          "base_uri": "https://localhost:8080/"
        },
        "id": "3lMrpfijC-ol",
        "outputId": "e448593b-be52-44a1-a738-4a98fa2303d7"
      },
      "execution_count": null,
      "outputs": [
        {
          "output_type": "stream",
          "name": "stdout",
          "text": [
            "Búsqueda exitosa\n",
            "['las', 'las', 'las']\n"
          ]
        }
      ]
    },
    {
      "cell_type": "code",
      "source": [
        "resultado = re.findall('laaas', texto)\n",
        "if resultado:  \n",
        "  print(\"Búsqueda exitosa\")\n",
        "  print(resultado)\n",
        "else:\n",
        "  print(\"No se encontró el patrón buscado\")"
      ],
      "metadata": {
        "colab": {
          "base_uri": "https://localhost:8080/"
        },
        "id": "pInhCJbc7SA-",
        "outputId": "4fee83f1-437d-4c5d-ace1-607322df9508"
      },
      "execution_count": null,
      "outputs": [
        {
          "output_type": "stream",
          "name": "stdout",
          "text": [
            "No se encontró el patrón buscado\n"
          ]
        }
      ]
    }
  ]
}