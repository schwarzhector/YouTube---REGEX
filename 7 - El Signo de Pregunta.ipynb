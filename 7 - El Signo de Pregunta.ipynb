{
  "nbformat": 4,
  "nbformat_minor": 0,
  "metadata": {
    "colab": {
      "name": "2.7 REGEX.ipynb",
      "provenance": []
    },
    "kernelspec": {
      "name": "python3",
      "display_name": "Python 3"
    },
    "language_info": {
      "name": "python"
    }
  },
  "cells": [
    {
      "cell_type": "markdown",
      "source": [
        "Código utilizado en el video:<br>\n",
        "https://youtu.be/6tGjIV6AMgc"
      ],
      "metadata": {
        "id": "ekePceusPME4"
      }
    },
    {
      "cell_type": "markdown",
      "source": [
        "# El Signo de Pregunta '?'"
      ],
      "metadata": {
        "id": "uNewK9Ix3yF4"
      }
    },
    {
      "cell_type": "code",
      "source": [
        "import re"
      ],
      "metadata": {
        "id": "Qs2iVLVl3v9h"
      },
      "execution_count": null,
      "outputs": []
    },
    {
      "cell_type": "code",
      "source": [
        "# Teléfono  : 6 dígitos\n",
        "empleados = [\n",
        "             \"-Guybrush Threepwood-654261-Calle Falsa 123-AXY764581-\",\n",
        "             \"-Elaine Marley-359752-Avenida Siempreviva 742-BZU620873-\",\n",
        "             \"-Griswold Sopabuena-987653-Avenida Los Robles 2311N-AXY365410-\",\n",
        "             \"-Herman Toothrot-159354-31 Spooner Street-CPN495103-\",\n",
        "             \"-Pirata LeChuck-456215-Apartamento 5A, Calle 81-BZU573040-\",\n",
        "             \"-René Rottingham-321656-56B Mansiones Whitehavens-CPN938601-\",\n",
        "             \"-Charles DeGoulash-789327-221B Baker Street-AXY784960-\",\n",
        "             \"-Edward Van Helgen-BZU486930-456918-124 Conch Street, Pacific Ocean\",\n",
        "            ]"
      ],
      "metadata": {
        "id": "7dAs149w3wDP"
      },
      "execution_count": null,
      "outputs": []
    },
    {
      "cell_type": "code",
      "source": [
        "for empleado in empleados:\n",
        "  resultado = re.findall('-(\\d{6})-', empleado)\n",
        "  print(resultado)"
      ],
      "metadata": {
        "colab": {
          "base_uri": "https://localhost:8080/"
        },
        "id": "Vh0Od6j8-X16",
        "outputId": "1c51b466-3702-45d8-fce5-df57b490ee4d"
      },
      "execution_count": null,
      "outputs": [
        {
          "output_type": "stream",
          "name": "stdout",
          "text": [
            "['654261']\n",
            "['359752']\n",
            "['987653']\n",
            "['159354']\n",
            "['456215']\n",
            "['321656']\n",
            "['789327']\n",
            "['456918']\n"
          ]
        }
      ]
    },
    {
      "cell_type": "code",
      "source": [
        "# Se agregó 'tel' o 'te:' en algúnos números\n",
        "empleados = [\n",
        "             \"-Guybrush Threepwood-tel654261-Calle Falsa 123-AXY764581-\",\n",
        "             \"-Elaine Marley-te:359752-Avenida Siempreviva 742-BZU620873-\",\n",
        "             \"-Griswold Sopabuena-te:987653-Avenida Los Robles 2311N-AXY365410-\",\n",
        "             \"-Herman Toothrot-159354-31 Spooner Street-CPN495103-\",\n",
        "             \"-Pirata LeChuck-tel456215-Apartamento 5A, Calle 81-BZU573040-\",\n",
        "             \"-René Rottingham-te:321656-56B Mansiones Whitehavens-CPN938601-\",\n",
        "             \"-Charles DeGoulash-te:789327-221B Baker Street-AXY784960-\",\n",
        "             \"-Edward Van Helgen-BZU486930-456918-124 Conch Street, Pacific Ocean\",\n",
        "            ]"
      ],
      "metadata": {
        "id": "hDa5r7W_9r2Y"
      },
      "execution_count": null,
      "outputs": []
    },
    {
      "cell_type": "code",
      "source": [
        "for empleado in empleados:\n",
        "  resultado = re.findall('-t?e?l?:?\\d{6}-', empleado)\n",
        "  print(resultado)"
      ],
      "metadata": {
        "colab": {
          "base_uri": "https://localhost:8080/"
        },
        "id": "BMRmNvcE-Ck5",
        "outputId": "c5dc0ab9-b241-4e10-852a-5a5d4882a246"
      },
      "execution_count": null,
      "outputs": [
        {
          "output_type": "stream",
          "name": "stdout",
          "text": [
            "['-tel654261-']\n",
            "['-te:359752-']\n",
            "['-te:987653-']\n",
            "['-159354-']\n",
            "['-tel456215-']\n",
            "['-te:321656-']\n",
            "['-te:789327-']\n",
            "['-456918-']\n"
          ]
        }
      ]
    },
    {
      "cell_type": "code",
      "source": [
        "for empleado in empleados:\n",
        "  resultado = re.findall('-t?e?l?:?(\\d{6})-', empleado)\n",
        "  print(resultado)"
      ],
      "metadata": {
        "colab": {
          "base_uri": "https://localhost:8080/"
        },
        "outputId": "c8a4b8e9-be1e-4821-f4f8-0e1c54b4fed3",
        "id": "67NfzJIX2Cq2"
      },
      "execution_count": null,
      "outputs": [
        {
          "output_type": "stream",
          "name": "stdout",
          "text": [
            "['654261']\n",
            "['359752']\n",
            "['987653']\n",
            "['159354']\n",
            "['456215']\n",
            "['321656']\n",
            "['789327']\n",
            "['456918']\n"
          ]
        }
      ]
    },
    {
      "cell_type": "markdown",
      "source": [
        "### Mes de Ingreso"
      ],
      "metadata": {
        "id": "NS0Qxrpf1BKj"
      }
    },
    {
      "cell_type": "code",
      "source": [
        "empleados = [\n",
        "             \"-Guybrush Threepwood-Noviembre-Calle Falsa 123-AXY764581-\",\n",
        "             \"-Elaine Marley-Diciembre-Avenida Siempreviva 742-BZU620873-\",\n",
        "             \"-Griswold Sopabuena-Nov-Avenida Los Robles 2311N-AXY365410-\",\n",
        "             \"-Herman Toothrot-Octubre-31 Spooner Street-CPN495103-\",\n",
        "             \"-Pirata LeChuck-Enero-Apartamento 5A, Calle 81-BZU573040-\",\n",
        "             \"-René Rottingham-Noviembre-56B Mansiones Whitehavens-CPN938601-\",\n",
        "             \"-Charles DeGoulash-Agosto-221B Baker Street-AXY784960-\",\n",
        "             \"-Edward Van Helgen-BZU486930-Nov-124 Conch Street, Pacific Ocean\",\n",
        "            ]"
      ],
      "metadata": {
        "id": "EOitYiV0-1Ro"
      },
      "execution_count": null,
      "outputs": []
    },
    {
      "cell_type": "code",
      "source": [
        "for empleado in empleados:\n",
        "  mes = re.search('-Nov-', empleado)\n",
        "  print(mes)\n",
        "\n"
      ],
      "metadata": {
        "colab": {
          "base_uri": "https://localhost:8080/"
        },
        "id": "OguBHLf6vewh",
        "outputId": "423e3310-3f37-4e99-81b7-fc8958226122"
      },
      "execution_count": null,
      "outputs": [
        {
          "output_type": "stream",
          "name": "stdout",
          "text": [
            "None\n",
            "None\n",
            "<re.Match object; span=(19, 24), match='-Nov-'>\n",
            "None\n",
            "None\n",
            "None\n",
            "None\n",
            "<re.Match object; span=(28, 33), match='-Nov-'>\n"
          ]
        }
      ]
    },
    {
      "cell_type": "code",
      "source": [
        "for empleado in empleados:\n",
        "  mes = re.search('-Noviembre-', empleado)\n",
        "  print(mes)\n"
      ],
      "metadata": {
        "colab": {
          "base_uri": "https://localhost:8080/"
        },
        "id": "Hnzo8giw1SoQ",
        "outputId": "0a3e686d-c92b-4b89-9daa-57e22f36b314"
      },
      "execution_count": null,
      "outputs": [
        {
          "output_type": "stream",
          "name": "stdout",
          "text": [
            "<re.Match object; span=(20, 31), match='-Noviembre-'>\n",
            "None\n",
            "None\n",
            "None\n",
            "None\n",
            "<re.Match object; span=(16, 27), match='-Noviembre-'>\n",
            "None\n",
            "None\n"
          ]
        }
      ]
    },
    {
      "cell_type": "code",
      "source": [
        "for empleado in empleados:\n",
        "  mes = re.search('Nov(iembre)?', empleado)\n",
        "  print(mes)\n"
      ],
      "metadata": {
        "colab": {
          "base_uri": "https://localhost:8080/"
        },
        "id": "_0AvymEYzwTw",
        "outputId": "ddb808a6-6357-4f9b-c6f5-5cf923dc0794"
      },
      "execution_count": null,
      "outputs": [
        {
          "output_type": "stream",
          "name": "stdout",
          "text": [
            "<re.Match object; span=(21, 30), match='Noviembre'>\n",
            "None\n",
            "<re.Match object; span=(20, 23), match='Nov'>\n",
            "None\n",
            "None\n",
            "<re.Match object; span=(17, 26), match='Noviembre'>\n",
            "None\n",
            "<re.Match object; span=(29, 32), match='Nov'>\n"
          ]
        }
      ]
    }
  ]
}