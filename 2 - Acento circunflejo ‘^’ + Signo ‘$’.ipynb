{
  "nbformat": 4,
  "nbformat_minor": 0,
  "metadata": {
    "colab": {
      "name": "2.2 REGEX.ipynb",
      "provenance": []
    },
    "kernelspec": {
      "name": "python3",
      "display_name": "Python 3"
    },
    "language_info": {
      "name": "python"
    }
  },
  "cells": [
    {
      "cell_type": "markdown",
      "source": [
        "Código utilizado en el video:<br>\n",
        "https://youtu.be/jxlhp7dEHqM"
      ],
      "metadata": {
        "id": "_g1lipzcRB4h"
      }
    },
    {
      "cell_type": "code",
      "execution_count": null,
      "metadata": {
        "id": "nKUqOwpZ6AqX"
      },
      "outputs": [],
      "source": [
        "import re"
      ]
    },
    {
      "cell_type": "markdown",
      "source": [
        "## Acento circunflejo ‘^’\n",
        "##### (circumflex)"
      ],
      "metadata": {
        "id": "JLa7c6pf6bg1"
      }
    },
    {
      "cell_type": "code",
      "source": [
        "texto =[    'Me gusta el sol, Alicia y las palomas',\n",
        "            'el buen cigarro y la guitarra española',\n",
        "            'saltar paredes y abrir las ventanas',\n",
        "            'y cuando llora una mujer (de alegría)',\n",
        "            'Me gusta el vino tanto como las flores',\n",
        "            'y los conejos pero no los tractores',\n",
        "            'y el pan casero y la voz de Dolores',\n",
        "            'y el mar mojándome los pies',\n",
        "            'no soy de aqui ni soy de allá',\n",
        "            'no tengo edad mi porvenir',\n",
        "            'y ser felíz es mi color de identidad'\n",
        "          ]\n",
        "          \n",
        "for frase in texto:\n",
        "  if re.search('^Me', frase):  \n",
        "    print(frase)  "
      ],
      "metadata": {
        "colab": {
          "base_uri": "https://localhost:8080/"
        },
        "id": "pImx3ISM6ckN",
        "outputId": "78862e70-9f93-4bc5-86ea-5f194a434094"
      },
      "execution_count": null,
      "outputs": [
        {
          "output_type": "stream",
          "name": "stdout",
          "text": [
            "Me gusta el sol, Alicia y las palomas\n",
            "Me gusta el vino tanto como las flores\n"
          ]
        }
      ]
    },
    {
      "cell_type": "code",
      "source": [
        "for frase in texto:\n",
        "  if re.search('^no', frase):  \n",
        "    print(frase) "
      ],
      "metadata": {
        "colab": {
          "base_uri": "https://localhost:8080/"
        },
        "id": "t5180lIB6j_O",
        "outputId": "7fd4213d-3495-472a-b3d8-c09b343ef4d5"
      },
      "execution_count": null,
      "outputs": [
        {
          "output_type": "stream",
          "name": "stdout",
          "text": [
            "no soy de aqui ni soy de allá\n",
            "no tengo edad mi porvenir\n"
          ]
        }
      ]
    },
    {
      "cell_type": "markdown",
      "source": [
        " # Signo ‘$’"
      ],
      "metadata": {
        "id": "Y4feIdp-MIKa"
      }
    },
    {
      "cell_type": "code",
      "source": [
        "for frase in texto:\n",
        "  if re.search('es$', frase):  \n",
        "    print(frase) "
      ],
      "metadata": {
        "colab": {
          "base_uri": "https://localhost:8080/"
        },
        "id": "RGXAkjsU6gfl",
        "outputId": "522e64e6-1d48-426c-a08e-025be52ef025"
      },
      "execution_count": null,
      "outputs": [
        {
          "output_type": "stream",
          "name": "stdout",
          "text": [
            "Me gusta el vino tanto como las flores\n",
            "y los conejos pero no los tractores\n",
            "y el pan casero y la voz de Dolores\n",
            "y el mar mojándome los pies\n"
          ]
        }
      ]
    },
    {
      "cell_type": "code",
      "source": [
        "for frase in texto:\n",
        "  if re.search('as$', frase):  \n",
        "    print(frase) "
      ],
      "metadata": {
        "colab": {
          "base_uri": "https://localhost:8080/"
        },
        "id": "_Egui8DaMPyp",
        "outputId": "b42b8435-82b1-4e17-a8be-16aa34d237fa"
      },
      "execution_count": null,
      "outputs": [
        {
          "output_type": "stream",
          "name": "stdout",
          "text": [
            "Me gusta el sol, Alicia y las palomas\n",
            "saltar paredes y abrir las ventanas\n"
          ]
        }
      ]
    }
  ]
}