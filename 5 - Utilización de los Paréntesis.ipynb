{
  "nbformat": 4,
  "nbformat_minor": 0,
  "metadata": {
    "colab": {
      "name": "2.5 REGEX.ipynb",
      "provenance": []
    },
    "kernelspec": {
      "name": "python3",
      "display_name": "Python 3"
    },
    "language_info": {
      "name": "python"
    }
  },
  "cells": [
    {
      "cell_type": "markdown",
      "source": [
        "Código utilizado en el video:<br>\n",
        "https://youtu.be/4TQO9P3wKmg"
      ],
      "metadata": {
        "id": "GTdzUYjhRpzq"
      }
    },
    {
      "cell_type": "markdown",
      "source": [
        "# Utilización de los Paréntesis ( )"
      ],
      "metadata": {
        "id": "ANSVPwxohuLY"
      }
    },
    {
      "cell_type": "code",
      "execution_count": null,
      "metadata": {
        "id": "_yA3y5U0hoiN"
      },
      "outputs": [],
      "source": [
        "import re"
      ]
    },
    {
      "cell_type": "code",
      "source": [
        "# Código: 3 letras (departamento) + 6 dígitos (identificador del proyecto)\n",
        "# Teléfono  : 6 dígitos\n",
        "empleados = [\n",
        "             \"-Guybrush Threepwood-654261-Calle Falsa 123-AXY764581-\",\n",
        "             \"-Elaine Marley-359752-Avenida Siempreviva 742-BZU620873-\",\n",
        "             \"-Griswold Sopabuena-987653-Avenida Los Robles 2311N-AXY365410-\",\n",
        "             \"-Herman Toothrot-159354-31 Spooner Street-CPN495103-\",\n",
        "             \"-Pirata LeChuck-456215-Apartamento 5A, Calle 81-BZU573040-\",\n",
        "             \"-René Rottingham-321656-56B Mansiones Whitehavens-CPN938601-\",\n",
        "             \"-Charles DeGoulash-789327-221B Baker Street-AXY784960-\",\n",
        "             \"-Edward Van Helgen-BZU486930-456918-124 Conch Street, Pacific Ocean\",\n",
        "            ]"
      ],
      "metadata": {
        "id": "Ib4xma0HhroQ"
      },
      "execution_count": null,
      "outputs": []
    },
    {
      "cell_type": "code",
      "source": [
        "for empleado in empleados:\n",
        "  resultado = re.findall('\\d{6}', empleado)\n",
        "  print(resultado)"
      ],
      "metadata": {
        "colab": {
          "base_uri": "https://localhost:8080/"
        },
        "id": "fkCUaA3Ski0C",
        "outputId": "8c0826d0-2b1b-4f9f-ef89-1abf7e611736"
      },
      "execution_count": null,
      "outputs": [
        {
          "output_type": "stream",
          "name": "stdout",
          "text": [
            "['654261', '764581']\n",
            "['359752', '620873']\n",
            "['987653', '365410']\n",
            "['159354', '495103']\n",
            "['456215', '573040']\n",
            "['321656', '938601']\n",
            "['789327', '784960']\n",
            "['486930', '456918']\n"
          ]
        }
      ]
    },
    {
      "cell_type": "code",
      "source": [
        "# Código: 3 letras (departamento) + 6 dígitos (identificador del proyecto)\n",
        "# Teléfono  : 6 dígitos\n",
        "empleados = [\n",
        "             \"-Guybrush Threepwood-654261-Calle Falsa 123-AXY764581-\",\n",
        "             \"-Elaine Marley-359752-Avenida Siempreviva 742-BZU620873-\",\n",
        "             \"-Griswold Sopabuena-987653-Avenida Los Robles 2311N-AXY365410-\",\n",
        "             \"-Herman Toothrot-159354-31 Spooner Street-CPN495103-\",\n",
        "             \"-Pirata LeChuck-456215-Apartamento 5A, Calle 81-BZU573040-\",\n",
        "             \"-René Rottingham-321656-56B Mansiones Whitehavens-CPN938601-\",\n",
        "             \"-Charles DeGoulash-789327-221B Baker Street-AXY784960-\",\n",
        "             \"-Edward Van Helgen-BZU486930-456918-124 Conch Street, Pacific Ocean\",\n",
        "            ]\n",
        "for empleado in empleados:\n",
        "  resultado = re.findall('\\D{3}\\d{6}', empleado)\n",
        "  print(resultado)"
      ],
      "metadata": {
        "colab": {
          "base_uri": "https://localhost:8080/"
        },
        "id": "TmaBafVPl4Mj",
        "outputId": "2a8dec53-fc6b-4ef5-b8f6-ebe77e3a8c0d"
      },
      "execution_count": null,
      "outputs": [
        {
          "output_type": "stream",
          "name": "stdout",
          "text": [
            "['od-654261', 'AXY764581']\n",
            "['ey-359752', 'BZU620873']\n",
            "['na-987653', 'AXY365410']\n",
            "['ot-159354', 'CPN495103']\n",
            "['ck-456215', 'BZU573040']\n",
            "['am-321656', 'CPN938601']\n",
            "['sh-789327', 'AXY784960']\n",
            "['BZU486930']\n"
          ]
        }
      ]
    },
    {
      "cell_type": "code",
      "source": [
        "for empleado in empleados:\n",
        "  resultado = re.findall('(\\D{3})\\d{6}', empleado)\n",
        "  print(resultado)"
      ],
      "metadata": {
        "colab": {
          "base_uri": "https://localhost:8080/"
        },
        "id": "_LG9QiUPspE2",
        "outputId": "889e00fa-39b8-41b1-c8a2-cebf97e60989"
      },
      "execution_count": null,
      "outputs": [
        {
          "output_type": "stream",
          "name": "stdout",
          "text": [
            "['od-', 'AXY']\n",
            "['ey-', 'BZU']\n",
            "['na-', 'AXY']\n",
            "['ot-', 'CPN']\n",
            "['ck-', 'BZU']\n",
            "['am-', 'CPN']\n",
            "['sh-', 'AXY']\n",
            "['BZU']\n"
          ]
        }
      ]
    },
    {
      "cell_type": "code",
      "source": [
        "for empleado in empleados:\n",
        "  resultado = re.findall('-(\\D{3})\\d{6}', empleado)\n",
        "  print(resultado)"
      ],
      "metadata": {
        "colab": {
          "base_uri": "https://localhost:8080/"
        },
        "id": "Zy_H08Y2hsEW",
        "outputId": "b15cac8b-fdab-410b-e838-0b6ae73b1fa3"
      },
      "execution_count": null,
      "outputs": [
        {
          "output_type": "stream",
          "name": "stdout",
          "text": [
            "['AXY']\n",
            "['BZU']\n",
            "['AXY']\n",
            "['CPN']\n",
            "['BZU']\n",
            "['CPN']\n",
            "['AXY']\n",
            "['BZU']\n"
          ]
        }
      ]
    },
    {
      "cell_type": "markdown",
      "source": [
        "### Agregando \"Tel\" al número de teléfono"
      ],
      "metadata": {
        "id": "r809m30FnYBj"
      }
    },
    {
      "cell_type": "code",
      "source": [
        "empleados = [\n",
        "             \"-Guybrush Threepwood-Tel654261-Calle Falsa 123-AXY764581-\",\n",
        "             \"-Elaine Marley-Tel359752-Avenida Siempreviva 742-BZU620873-\",\n",
        "             \"-Griswold Sopabuena-Tel987653-Avenida Los Robles 2311N-AXY365410-\",\n",
        "             \"-Herman Toothrot-Tel159354-31 Spooner Street-CPN495103-\",\n",
        "             \"-Pirata LeChuck-Tel456215-Apartamento 5A, Calle 81-BZU573040-\",\n",
        "             \"-René Rottingham-CPN938601-Tel321656-56B Mansiones Whitehavens^-\",\n",
        "             \"-Charles DeGoulash-Tel789327-221B Baker Street-AXY784960-\",\n",
        "             \"-Edward Van Helgen-BZU486930-Tel456918-124 Conch Street, Pacific Ocean\",\n",
        "            ]\n",
        "for empleado in empleados:\n",
        "  #resultado = re.findall('-(\\D{3})\\d{6}', empleado)\n",
        "  resultado = re.findall('-([^Tel]{3})\\d{6}', empleado)  \n",
        "  print(resultado)"
      ],
      "metadata": {
        "colab": {
          "base_uri": "https://localhost:8080/"
        },
        "id": "mqg6fiF6k-TC",
        "outputId": "d3074953-4e11-4de6-9334-85a1aa7f7f53"
      },
      "execution_count": null,
      "outputs": [
        {
          "output_type": "stream",
          "name": "stdout",
          "text": [
            "['AXY']\n",
            "['BZU']\n",
            "['AXY']\n",
            "['CPN']\n",
            "['BZU']\n",
            "['CPN']\n",
            "['AXY']\n",
            "['BZU']\n"
          ]
        }
      ]
    }
  ]
}