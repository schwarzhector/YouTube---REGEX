{
  "nbformat": 4,
  "nbformat_minor": 0,
  "metadata": {
    "colab": {
      "name": "2.4 REGEX.ipynb",
      "provenance": []
    },
    "kernelspec": {
      "name": "python3",
      "display_name": "Python 3"
    },
    "language_info": {
      "name": "python"
    }
  },
  "cells": [
    {
      "cell_type": "markdown",
      "source": [
        "Código utilizado en el video:<br>\n",
        "https://youtu.be/Ge3ZkyD68FQ"
      ],
      "metadata": {
        "id": "bGzELkuVRbTY"
      }
    },
    {
      "cell_type": "markdown",
      "source": [
        "# Utilización de las Llaves { }"
      ],
      "metadata": {
        "id": "s7XPupJrGNg7"
      }
    },
    {
      "cell_type": "code",
      "source": [
        "import re"
      ],
      "metadata": {
        "id": "TL5i06quGPLq"
      },
      "execution_count": null,
      "outputs": []
    },
    {
      "cell_type": "code",
      "source": [
        "# Departamento  : 3 dígitos\n",
        "# Teléfono  : 6 dígitos\n",
        "# Legajo  : 4 a 5 dígitos\n",
        "empleados = [\n",
        "             \"-Guybrush Threepwood-581-654261-Calle Falsa 123-76458-\",\n",
        "             \"-Elaine Marley-582-359752-Avenida Siempreviva 742-60873-\",\n",
        "             \"-Griswold Sopabuena-581-987653-Avenida Los Robles 2311N-6541-\",\n",
        "             \"-Herman Toothrot-583-159354-31 Spooner Street-9510-\",\n",
        "             \"-Pirata LeChuck-456215-Apartamento 5A, Calle 81-582-7304-\",\n",
        "             \"-René Rottingham-581-321656-56B Mansiones Whitehavens-98601-\",\n",
        "             \"-Charles DeGoulash-580-789327-221B Baker Street-7896-\",\n",
        "             \"-Edward Van Helgen-48630-581-456918-124 Conch Street, Pacific Ocean\",\n",
        "            ]"
      ],
      "metadata": {
        "id": "loh11COpGQux"
      },
      "execution_count": null,
      "outputs": []
    },
    {
      "cell_type": "markdown",
      "source": [
        "### Número de teléfono"
      ],
      "metadata": {
        "id": "EcYLElWyQgOM"
      }
    },
    {
      "cell_type": "code",
      "source": [
        "for empleado in empleados:\n",
        "  tel = re.findall('\\d{6}', empleado)\n",
        "  print(tel)"
      ],
      "metadata": {
        "colab": {
          "base_uri": "https://localhost:8080/"
        },
        "id": "uUKgcv-OQdbE",
        "outputId": "328272fc-03d1-406b-ebd9-e22a0e9535c6"
      },
      "execution_count": null,
      "outputs": [
        {
          "output_type": "stream",
          "name": "stdout",
          "text": [
            "['654261']\n",
            "['359752']\n",
            "['987653']\n",
            "['159354']\n",
            "['456215']\n",
            "['321656']\n",
            "['789327']\n",
            "['456918']\n"
          ]
        }
      ]
    },
    {
      "cell_type": "markdown",
      "source": [
        "### Departamento donde trabaja"
      ],
      "metadata": {
        "id": "pnDHXzXRQdmk"
      }
    },
    {
      "cell_type": "code",
      "source": [
        "# Departamento  : 3 dígitos\n",
        "empleados = [\n",
        "             \"-Guybrush Threepwood-581-654261-Calle Falsa 123-76458-\",\n",
        "             \"-Elaine Marley-582-359752-Avenida Siempreviva 742-60873-\",\n",
        "             \"-Griswold Sopabuena-581-987653-Avenida Los Robles 2311N-6541-\",\n",
        "             \"-Herman Toothrot-583-159354-31 Spooner Street-9510-\",\n",
        "             \"-Pirata LeChuck-456215-Apartamento 5A, Calle 81-582-7304-\",\n",
        "             \"-René Rottingham-581-321656-56B Mansiones Whitehavens-98601-\",\n",
        "             \"-Charles DeGoulash-580-789327-221B Baker Street-7896-\",\n",
        "             \"-48630-Edward Van Helgen-581-456918-124 Conch Street, Pacific Ocean\",\n",
        "            ]\n",
        "for empleado in empleados:\n",
        "  departamento = re.findall('\\d{3}', empleado)\n",
        "  print(departamento)"
      ],
      "metadata": {
        "colab": {
          "base_uri": "https://localhost:8080/"
        },
        "id": "5_V-zjk4LR6U",
        "outputId": "c16a6135-7635-4adb-d035-f9e1540397ca"
      },
      "execution_count": null,
      "outputs": [
        {
          "output_type": "stream",
          "name": "stdout",
          "text": [
            "['581', '654', '261', '123', '764']\n",
            "['582', '359', '752', '742', '608']\n",
            "['581', '987', '653', '231', '654']\n",
            "['583', '159', '354', '951']\n",
            "['456', '215', '582', '730']\n",
            "['581', '321', '656', '986']\n",
            "['580', '789', '327', '221', '789']\n",
            "['486', '581', '456', '918', '124']\n"
          ]
        }
      ]
    },
    {
      "cell_type": "code",
      "source": [
        "for empleado in empleados:\n",
        "  departamento = re.findall('-\\d{3}-', empleado)\n",
        "  print(departamento)"
      ],
      "metadata": {
        "colab": {
          "base_uri": "https://localhost:8080/"
        },
        "id": "OLjIXhJ7QZvN",
        "outputId": "a213e315-cd08-496f-9558-65558c72ee1d"
      },
      "execution_count": null,
      "outputs": [
        {
          "output_type": "stream",
          "name": "stdout",
          "text": [
            "['-581-']\n",
            "['-582-']\n",
            "['-581-']\n",
            "['-583-']\n",
            "['-582-']\n",
            "['-581-']\n",
            "['-580-']\n",
            "['-581-']\n"
          ]
        }
      ]
    },
    {
      "cell_type": "markdown",
      "source": [
        "### Legajo"
      ],
      "metadata": {
        "id": "umrnxbeaQ1l3"
      }
    },
    {
      "cell_type": "code",
      "source": [
        "# Legajo  : 4 a 5 dígitos\n",
        "empleados = [\n",
        "             \"-Guybrush Threepwood-581-654261-Calle Falsa 123-76458-\",\n",
        "             \"-Elaine Marley-582-359752-Avenida Siempreviva 742-60873-\",\n",
        "             \"-Griswold Sopabuena-581-987653-Avenida Los Robles 2311N-6541-\",\n",
        "             \"-Herman Toothrot-583-159354-31 Spooner Street-9510-\",\n",
        "             \"-Pirata LeChuck-456215-Apartamento 5A, Calle 81-582-7304-\",\n",
        "             \"-René Rottingham-581-321656-56B Mansiones Whitehavens-98601-\",\n",
        "             \"-Charles DeGoulash-580-789327-221B Baker Street-7896-\",\n",
        "             \"-48630-Edward Van Helgen-581-456918-124 Conch Street, Pacific Ocean\",\n",
        "            ]\n",
        "for empleado in empleados:\n",
        "  resultado = re.findall('-\\d{4,5}-', empleado)\n",
        "  print(resultado)"
      ],
      "metadata": {
        "colab": {
          "base_uri": "https://localhost:8080/"
        },
        "id": "rVsdpWEnMEqr",
        "outputId": "20cb9db6-84bb-4095-f290-5170138de2f6"
      },
      "execution_count": null,
      "outputs": [
        {
          "output_type": "stream",
          "name": "stdout",
          "text": [
            "['-76458-']\n",
            "['-60873-']\n",
            "['-6541-']\n",
            "['-9510-']\n",
            "['-7304-']\n",
            "['-98601-']\n",
            "['-7896-']\n",
            "['-48630-']\n"
          ]
        }
      ]
    },
    {
      "cell_type": "markdown",
      "source": [
        "### Nombre"
      ],
      "metadata": {
        "id": "RTBY4JYoRZf3"
      }
    },
    {
      "cell_type": "code",
      "source": [
        "empleados = [\n",
        "             \"-Guybrush Threepwood-581-654261-Calle Falsa 123-76458-\",\n",
        "             \"-Elaine Marley-582-359752-Avenida Siempreviva 742-60873-\",\n",
        "             \"-Griswold Sopabuena-581-987653-Avenida Los Robles 2311N-6541-\",\n",
        "             \"-Herman Toothrot-583-159354-31 Spooner Street-9510-\",\n",
        "             \"-Pirata LeChuck-456215-Apartamento 5A, Calle 81-582-7304-\",\n",
        "             \"-René Rottingham-581-321656-56B Mansiones Whitehavens-98601-\",\n",
        "             \"-Charles DeGoulash-580-789327-221B Baker Street-7896-\",\n",
        "             \"-48630-Edward Van Helgen-581-456918-124 Conch Street, Pacific Ocean\",\n",
        "            ]\n",
        "for empleado in empleados:\n",
        "  nombre = re.search('-\\D+', empleado)\n",
        "  print(nombre)"
      ],
      "metadata": {
        "colab": {
          "base_uri": "https://localhost:8080/"
        },
        "id": "4fgDUSHLRZZO",
        "outputId": "e280acf7-5cf6-4630-cf7e-57c73818c4ec"
      },
      "execution_count": null,
      "outputs": [
        {
          "output_type": "stream",
          "name": "stdout",
          "text": [
            "<re.Match object; span=(0, 21), match='-Guybrush Threepwood-'>\n",
            "<re.Match object; span=(0, 15), match='-Elaine Marley-'>\n",
            "<re.Match object; span=(0, 20), match='-Griswold Sopabuena-'>\n",
            "<re.Match object; span=(0, 17), match='-Herman Toothrot-'>\n",
            "<re.Match object; span=(0, 16), match='-Pirata LeChuck-'>\n",
            "<re.Match object; span=(0, 17), match='-René Rottingham-'>\n",
            "<re.Match object; span=(0, 19), match='-Charles DeGoulash-'>\n",
            "<re.Match object; span=(6, 25), match='-Edward Van Helgen-'>\n"
          ]
        }
      ]
    },
    {
      "cell_type": "code",
      "source": [
        "for empleado in empleados:\n",
        "  nombre = re.search('-\\D+', empleado)\n",
        "  print(nombre.group())"
      ],
      "metadata": {
        "colab": {
          "base_uri": "https://localhost:8080/"
        },
        "id": "QIYjREG_TVLX",
        "outputId": "07602015-5621-4e7a-8c9c-93530a994a3e"
      },
      "execution_count": null,
      "outputs": [
        {
          "output_type": "stream",
          "name": "stdout",
          "text": [
            "-Guybrush Threepwood-\n",
            "-Elaine Marley-\n",
            "-Griswold Sopabuena-\n",
            "-Herman Toothrot-\n",
            "-Pirata LeChuck-\n",
            "-René Rottingham-\n",
            "-Charles DeGoulash-\n",
            "-Edward Van Helgen-\n"
          ]
        }
      ]
    },
    {
      "cell_type": "markdown",
      "source": [
        "### Presentación mejor organizada"
      ],
      "metadata": {
        "id": "2GPdrA5xQ87t"
      }
    },
    {
      "cell_type": "code",
      "source": [
        "empleados = [\n",
        "             \"-Guybrush Threepwood-581-654261-Calle Falsa 123-76458-\",\n",
        "             \"-Elaine Marley-582-359752-Avenida Siempreviva 742-60873-\",\n",
        "             \"-Griswold Sopabuena-581-987653-Avenida Los Robles 2311N-6541-\",\n",
        "             \"-Herman Toothrot-583-159354-31 Spooner Street-9510-\",\n",
        "             \"-Pirata LeChuck-456215-Apartamento 5A, Calle 81-582-7304-\",\n",
        "             \"-René Rottingham-581-321656-56B Mansiones Whitehavens-98601-\",\n",
        "             \"-Charles DeGoulash-580-789327-221B Baker Street-7896-\",\n",
        "             \"-Edward Van Helgen-48630-581-456918-124 Conch Street, Pacific Ocean\",\n",
        "            ]\n",
        "for empleado in empleados:\n",
        "  nombre = re.search('\\D+', empleado).group()\n",
        "  print('Nombre: ',nombre)\n",
        "  tel = re.findall('\\d{6}', empleado)\n",
        "  print('Teléfono: ',tel)\n",
        "  departamento = re.findall('-\\d{3}-', empleado)\n",
        "  print('Departamento: ',departamento)\n",
        "  legajo = re.findall('-\\d{4,5}-', empleado)\n",
        "  print('Legajo: ',legajo) \n",
        "  print('\\n')"
      ],
      "metadata": {
        "colab": {
          "base_uri": "https://localhost:8080/"
        },
        "id": "geucqH9HNkxj",
        "outputId": "70c2365c-a064-4544-f07a-11cbf19401de"
      },
      "execution_count": null,
      "outputs": [
        {
          "output_type": "stream",
          "name": "stdout",
          "text": [
            "Nombre:  -Guybrush Threepwood-\n",
            "Teléfono:  ['654261']\n",
            "Departamento:  ['-581-']\n",
            "Legajo:  ['-76458-']\n",
            "\n",
            "\n",
            "Nombre:  -Elaine Marley-\n",
            "Teléfono:  ['359752']\n",
            "Departamento:  ['-582-']\n",
            "Legajo:  ['-60873-']\n",
            "\n",
            "\n",
            "Nombre:  -Griswold Sopabuena-\n",
            "Teléfono:  ['987653']\n",
            "Departamento:  ['-581-']\n",
            "Legajo:  ['-6541-']\n",
            "\n",
            "\n",
            "Nombre:  -Herman Toothrot-\n",
            "Teléfono:  ['159354']\n",
            "Departamento:  ['-583-']\n",
            "Legajo:  ['-9510-']\n",
            "\n",
            "\n",
            "Nombre:  -Pirata LeChuck-\n",
            "Teléfono:  ['456215']\n",
            "Departamento:  ['-582-']\n",
            "Legajo:  ['-7304-']\n",
            "\n",
            "\n",
            "Nombre:  -René Rottingham-\n",
            "Teléfono:  ['321656']\n",
            "Departamento:  ['-581-']\n",
            "Legajo:  ['-98601-']\n",
            "\n",
            "\n",
            "Nombre:  -Charles DeGoulash-\n",
            "Teléfono:  ['789327']\n",
            "Departamento:  ['-580-']\n",
            "Legajo:  ['-7896-']\n",
            "\n",
            "\n",
            "Nombre:  -Edward Van Helgen-\n",
            "Teléfono:  ['456918']\n",
            "Departamento:  ['-581-']\n",
            "Legajo:  ['-48630-']\n",
            "\n",
            "\n"
          ]
        }
      ]
    }
  ]
}